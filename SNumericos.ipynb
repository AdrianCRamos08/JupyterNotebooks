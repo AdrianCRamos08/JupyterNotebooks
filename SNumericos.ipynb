{
 "metadata": {
  "language_info": {
   "codemirror_mode": {
    "name": "ipython",
    "version": 3
   },
   "file_extension": ".py",
   "mimetype": "text/x-python",
   "name": "python",
   "nbconvert_exporter": "python",
   "pygments_lexer": "ipython3",
   "version": "3.8.5"
  },
  "orig_nbformat": 2,
  "kernelspec": {
   "name": "python3",
   "display_name": "Python 3.8.5 32-bit",
   "metadata": {
    "interpreter": {
     "hash": "38d2a69ffe49ab09f4802be1c23258f3f7fffea0ba590b96efd5d32221c327f6"
    }
   }
  }
 },
 "nbformat": 4,
 "nbformat_minor": 2,
 "cells": [
  {
   "source": [
    "Conversiones del Sistema DECIMAL a otros sitemas numericos"
   ],
   "cell_type": "markdown",
   "metadata": {}
  },
  {
   "source": [
    "# Este programa convierte numeros decimales a binarios\n",
    "def decimalBinary (numero):\n",
    "    if numero ==0 or numero == 1:\n",
    "        print(numero, end='')\n",
    "        return\n",
    "    decimalBinary(int (numero/2))\n",
    "    decimalBinary(numero%2)\n",
    "\n",
    "def main():\n",
    "    numero = int(input(\"Ingresa un numero decimal \"))\n",
    "    print(\"Binario:\")\n",
    "    decimalBinary(numero)\n",
    "main()\n"
   ],
   "cell_type": "code",
   "metadata": {},
   "execution_count": 55,
   "outputs": [
    {
     "output_type": "stream",
     "name": "stdout",
     "text": [
      "Binario:\n1011"
     ]
    }
   ]
  },
  {
   "cell_type": "code",
   "execution_count": 73,
   "metadata": {},
   "outputs": [
    {
     "output_type": "stream",
     "name": "stdout",
     "text": [
      "Hexadecimal:  A\n"
     ]
    }
   ],
   "source": [
    "# Este programa convierte numeros de decimal a hexadecimal\n",
    "tablaConversion = ['0','1','2','3','4','5','6','7','8','9','A','B','C','D','E','F']\n",
    "def decimalHexadecimal(num):\n",
    "    if(num <= 0):\n",
    "        return ''\n",
    "    rem = num % 16\n",
    "    return decimalHexadecimal(num // 16) + tablaConversion[rem]\n",
    "def main():\n",
    "    decimal = int(input(\"Ingresa un numero decimal: \"))\n",
    "    print(\"Hexadecimal: \", decimalHexadecimal(decimal))\n",
    "main()\n"
   ]
  },
  {
   "cell_type": "code",
   "execution_count": 59,
   "metadata": {},
   "outputs": [
    {
     "output_type": "stream",
     "name": "stdout",
     "text": [
      "Octal: 25"
     ]
    }
   ],
   "source": [
    "# Este programa convierte numeros de decimal a octal\n",
    "def decimalOctal(num):\n",
    "    if (num > 0):\n",
    "        decimalOctal((int)(num / 8))\n",
    "        print(num % 8, end='')\n",
    "def main():\n",
    "    num = int(input(\"Ingresa un numero decimal\"))\n",
    "    print(\"Octal: \", end='')\n",
    "    decimalOctal(num)\n",
    "main()"
   ]
  },
  {
   "source": [
    "Conversiones del sistema BINARIO a otros sistemas numericos"
   ],
   "cell_type": "markdown",
   "metadata": {}
  },
  {
   "cell_type": "code",
   "execution_count": 50,
   "metadata": {},
   "outputs": [
    {
     "output_type": "stream",
     "name": "stdout",
     "text": [
      "Decimal:  19\n"
     ]
    }
   ],
   "source": [
    "# Este programa convierte numeros de Binario a Decimal\n",
    "def binarioDecimal(num):\n",
    "    sum = 0\n",
    "    i = 0\n",
    "    while num != 0:\n",
    "        rem = num % 10\n",
    "        sum = sum + rem * pow(2, i)\n",
    "        num = int(num / 10)\n",
    "        i = i + 1\n",
    "    print(\"Decimal: \", sum)\n",
    "\n",
    "def main():\n",
    "    num = int(input(\"Ingresa un numero binario\"))\n",
    "    binarioDecimal(num)\n",
    "main()"
   ]
  },
  {
   "cell_type": "code",
   "execution_count": 11,
   "metadata": {},
   "outputs": [
    {
     "output_type": "stream",
     "name": "stdout",
     "text": [
      "Ingresa un numero Binario: \n",
      "\n",
      "Octal: 17\n"
     ]
    }
   ],
   "source": [
    "# Este programa convierte numeros de Binario a Octal\n",
    "print(\"Ingresa un numero Binario: \")\n",
    "numbinario = int(input())\n",
    "\n",
    "octaldigito = 0\n",
    "octalnumero = []\n",
    "i = 0\n",
    "mul = 1\n",
    "chk = 1\n",
    "while numbinario!=0:\n",
    "    rem = numbinario % 10\n",
    "    octaldigito = octaldigito + (rem * mul)\n",
    "    if chk%3==0:\n",
    "        octalnumero.insert(i, octaldigito)\n",
    "        mul = 1\n",
    "        octaldigito = 0\n",
    "        chk = 1\n",
    "        i = i+1\n",
    "    else:\n",
    "        mul = mul*2\n",
    "        chk = chk+1\n",
    "    numbinario = int(numbinario / 10)\n",
    "\n",
    "if chk!=1:\n",
    "    octalnumero.insert(i, octaldigito)\n",
    "\n",
    "print(\"\\nOctal: \", end=\"\")\n",
    "while i>=0:\n",
    "    print(str(octalnumero[i]), end=\"\")\n",
    "    i = i-1\n",
    "print()"
   ]
  },
  {
   "cell_type": "code",
   "execution_count": 27,
   "metadata": {},
   "outputs": [
    {
     "output_type": "stream",
     "name": "stdout",
     "text": [
      "10\nHexadecimal:  ['A']\n"
     ]
    }
   ],
   "source": [
    "# Este programa covierte numeros de  Binario a Hexadecimal\n",
    "hexa =[]\n",
    "result = []\n",
    "num = int(input(\"Ingresa un numero000: \"))\n",
    "des = 0\n",
    "i = 0\n",
    "temp = num\n",
    "while(temp > 0):\n",
    "    rem = int(temp % 10)\n",
    "    des = des + rem * pow(2, i)\n",
    "    i = i + 1\n",
    "    temp = int(temp / 10)\n",
    "print(des)\n",
    "i = 0\n",
    "rem = 0\n",
    "while(des > 0):\n",
    "    rem = int(des % 16)\n",
    "    if rem < 10:\n",
    "        hexa.append(chr(rem + 48))\n",
    "    else:\n",
    "        hexa.append((chr(rem + 55)))\n",
    "    des = int(des / 16)\n",
    "j = 1\n",
    "for i in hexa :\n",
    "    result.append(hexa[len(hexa) - j])\n",
    "    j = j + 1\n",
    "print(\"Hexadecimal: \", result)"
   ]
  },
  {
   "source": [
    "Conversiones del sistema OCTAL a otros sistemas numericos"
   ],
   "cell_type": "markdown",
   "metadata": {}
  },
  {
   "cell_type": "code",
   "execution_count": 67,
   "metadata": {},
   "outputs": [
    {
     "output_type": "stream",
     "name": "stdout",
     "text": [
      "Decimal: 20 \n"
     ]
    }
   ],
   "source": [
    "# Este programa convierte numeros de Octal a Decimal\n",
    "def octalDecimal(oct, i):\n",
    "    if oct >= 0 and oct <= 7:\n",
    "        return oct * pow(8, i)\n",
    "    ldigito = oct % 10\n",
    "    return (pow(8, i) * ldigito) + octalDecimal(oct // 10, i + 1)\n",
    "def main():\n",
    "    octal = int(input('Ingresa un numero octal: '))\n",
    "    decimal = octalDecimal(octal, 0)\n",
    "    print(\"Decimal: {q} \".format(q = decimal))\n",
    "main()"
   ]
  },
  {
   "cell_type": "code",
   "execution_count": 13,
   "metadata": {},
   "outputs": [
    {
     "output_type": "stream",
     "name": "stdout",
     "text": [
      "Ingresa un numero Octal: \n",
      "\n",
      "Binario:  111\n"
     ]
    }
   ],
   "source": [
    "# Este programa convierte numeros de Octal a Binario\n",
    "print(\"Ingresa un numero Octal: \")\n",
    "octalnum = int(input())\n",
    "\n",
    "rev = 0\n",
    "chk = 0\n",
    "\n",
    "while octalnum!=0:\n",
    "    rem = octalnum%10\n",
    "    if rem>7:\n",
    "        chk = 1\n",
    "        break\n",
    "    rev = rem + (rev*10)\n",
    "    octalnum = int(octalnum/10)\n",
    "\n",
    "if chk == 0:\n",
    "    octalnum = rev\n",
    "    binnumero = \"\"\n",
    "\n",
    "    while octalnum!=0:\n",
    "        rem = octalnum%10\n",
    "        if rem==0:\n",
    "            binnumero = binnumero + \"000\"\n",
    "        elif rem==1:\n",
    "            binnumero = binnumero + \"001\"\n",
    "        elif rem==2:\n",
    "            binnumero = binnumero + \"010\"\n",
    "        elif rem==3:\n",
    "            binnumero = binnumero + \"011\"\n",
    "        elif rem==4:\n",
    "            binnumero = binnumero + \"100\"\n",
    "        elif rem==5:\n",
    "            binnumero = binnumero + \"101\"\n",
    "        elif rem==6:\n",
    "            binnumero = binnumero + \"110\"\n",
    "        elif rem==7:\n",
    "            binnumero = binnumero + \"111\"\n",
    "        octalnum = int(octalnum/10)\n",
    "\n",
    "    print(\"\\nBinario: \", binnumero)\n",
    "\n",
    "else:\n",
    "    print(\"\\nInvalid Input!\")"
   ]
  },
  {
   "cell_type": "code",
   "execution_count": 15,
   "metadata": {},
   "outputs": [
    {
     "output_type": "stream",
     "name": "stdout",
     "text": [
      "Ingresa un numero octal: \n",
      " Hexadecimal: F\n"
     ]
    }
   ],
   "source": [
    "# Este programa convierte numeros de Octal a Hexadecimal\n",
    "print(\"Ingresa un numero octal: \", end=\"\")\n",
    "octalnum = int(input())\n",
    "\n",
    "chk = i = decimalnum = 0\n",
    "while octalnum!=0:\n",
    "    rem = octalnum % 10\n",
    "    if rem>7:\n",
    "        chk = 1\n",
    "        break\n",
    "    decimalnum = decimalnum + (rem * (8 ** i))\n",
    "    i = i+1\n",
    "    octalnum = int(octalnum / 10)\n",
    "\n",
    "if chk == 0:\n",
    "    hexanum = \"\"\n",
    "    while decimalnum != 0:\n",
    "        rem = decimalnum % 16\n",
    "        if rem < 10:\n",
    "            rem = rem + 48\n",
    "        else:\n",
    "            rem = rem + 55\n",
    "        rem = chr(rem)\n",
    "        hexanum = hexanum + rem\n",
    "        decimalnum = int(decimalnum / 16)\n",
    "    hexanum = hexanum[::-1]\n",
    "    print(\"\\n Hexadecimal:\", hexanum)\n",
    "\n",
    "else:\n",
    "    print(\"\\nNumero Invalido\")"
   ]
  },
  {
   "source": [
    "Conversiones del sistema HEXADECIMAL a otros sistemas numericos"
   ],
   "cell_type": "markdown",
   "metadata": {}
  },
  {
   "cell_type": "code",
   "execution_count": 162,
   "metadata": {},
   "outputs": [
    {
     "output_type": "stream",
     "name": "stdout",
     "text": [
      "Decimal:  255\n"
     ]
    }
   ],
   "source": [
    "# Este programa convierte numeros de Hexadecimal a Decimal\n",
    "tablaConversion= {'0': 0, '1': 1, '2': 2, '3': 3, '4': 4, '5': 5, '6': 6, '7': 7, '8': 8, '9': 9, 'A': 10 , 'B': 11, 'C': 12, 'D': 13, 'E': 14, 'F': 15}\n",
    " \n",
    "hexadecimal = input(\"Introduce un numero hexadecimal: \").strip().upper()\n",
    "decimal = 0\n",
    "power = len(hexadecimal) -1\n",
    " \n",
    "for digit in hexadecimal:\n",
    "    decimal += tablaConversion[digit]*16**power\n",
    "    power -= 1\n",
    "    \n",
    "print(\"Decimal: \", decimal)"
   ]
  },
  {
   "cell_type": "code",
   "execution_count": 8,
   "metadata": {},
   "outputs": [
    {
     "output_type": "stream",
     "name": "stdout",
     "text": [
      "Introduce un numero hexadecimal: \n",
      "Binario:  01010100\n"
     ]
    }
   ],
   "source": [
    "# Este programa convierte numeros de Hexadecimal a Binario\n",
    "print(\"Introduce un numero hexadecimal: \", end=\"\")\n",
    "hnum = input()\n",
    "\n",
    "bnum = \"\"\n",
    "chk = 0\n",
    "hlen = len(hnum)\n",
    "i = 0\n",
    "while i<hlen:\n",
    "    if hnum[i] == '0':\n",
    "        bnum += \"0000\"\n",
    "    elif hnum[i] == '1':\n",
    "        bnum += \"0001\"\n",
    "    elif hnum[i] == '2':\n",
    "        bnum += \"0010\"\n",
    "    elif hnum[i] == '3':\n",
    "        bnum += \"0011\"\n",
    "    elif hnum[i] == '4':\n",
    "        bnum += \"0100\"\n",
    "    elif hnum[i] == '5':\n",
    "        bnum += \"0101\"\n",
    "    elif hnum[i] == '6':\n",
    "        bnum += \"0110\"\n",
    "    elif hnum[i] == '7':\n",
    "        bnum += \"0111\"\n",
    "    elif hnum[i] == '8':\n",
    "        bnum += \"1000\"\n",
    "    elif hnum[i] == '9':\n",
    "        bnum += \"1001\"\n",
    "    elif hnum[i] == 'a' or hnum[i] == 'A':\n",
    "        bnum += \"1010\"\n",
    "    elif hnum[i] == 'b' or hnum[i] == 'B':\n",
    "        bnum += \"1011\"\n",
    "    elif hnum[i] == 'c' or hnum[i] == 'C':\n",
    "        bnum += \"1100\"\n",
    "    elif hnum[i] == 'd' or hnum[i] == 'D':\n",
    "        bnum += \"1101\"\n",
    "    elif hnum[i] == 'e' or hnum[i] == 'E':\n",
    "        bnum += \"1110\"\n",
    "    elif hnum[i] == 'f' or hnum[i] == 'F':\n",
    "        bnum += \"1111\"\n",
    "    else:\n",
    "        chk = 1\n",
    "        break\n",
    "    i = i+1\n",
    "\n",
    "if chk==0:\n",
    "    print(\"\\nBinario: \", bnum)\n",
    "else:\n",
    "    print(\"\\nNumero Invalido\")"
   ]
  },
  {
   "cell_type": "code",
   "execution_count": 24,
   "metadata": {},
   "outputs": [
    {
     "output_type": "stream",
     "name": "stdout",
     "text": [
      "Ingresa un numero en Hexadecimal: \n",
      "Octal: 16\n"
     ]
    }
   ],
   "source": [
    "# Este programa convierte numeros de Hexadecimal a Octal\n",
    "print(\"Ingresa un numero en Hexadecimal: \", end=\"\")\n",
    "hexnum = input()\n",
    "\n",
    "chk = decimalnum = i = 0\n",
    "hexlen = len(hexnum) - 1\n",
    "while hexlen>=0:\n",
    "    if hexnum[hexlen]>='0' and hexnum[hexlen]<='9':\n",
    "        rem = int(hexnum[hexlen])\n",
    "    elif hexnum[hexlen]>='A' and hexnum[hexlen]<='F':\n",
    "        rem = ord(hexnum[hexlen]) - 55\n",
    "    elif hexnum[hexlen]>='a' and hexnum[hexlen]<='f':\n",
    "        rem = ord(hexnum[hexlen]) - 87\n",
    "    else:\n",
    "        chk = 1\n",
    "        break\n",
    "    decimalnum = decimalnum + (rem * (16 ** i))\n",
    "    hexlen = hexlen - 1\n",
    "    i = i+1\n",
    "\n",
    "if chk==0:\n",
    "    i = 0\n",
    "    octalnum = []\n",
    "    while decimalnum != 0:\n",
    "        octalnum.insert(i, decimalnum % 8)\n",
    "        i = i + 1\n",
    "        decimalnum = int(decimalnum / 8)\n",
    "\n",
    "    print(\"\\nOctal: \", end=\"\")\n",
    "    i = i - 1\n",
    "    while i >= 0:\n",
    "        print(octalnum[i], end=\"\")\n",
    "        i = i - 1\n",
    "    print()\n",
    "else:\n",
    "    print(\"\\nNumero Invalido\")"
   ]
  }
 ]
}