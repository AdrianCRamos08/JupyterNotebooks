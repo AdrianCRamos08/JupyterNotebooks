{
 "metadata": {
  "language_info": {
   "codemirror_mode": {
    "name": "ipython",
    "version": 3
   },
   "file_extension": ".py",
   "mimetype": "text/x-python",
   "name": "python",
   "nbconvert_exporter": "python",
   "pygments_lexer": "ipython3",
   "version": "3.8.5"
  },
  "orig_nbformat": 2,
  "kernelspec": {
   "name": "python3",
   "display_name": "Python 3.8.5 32-bit",
   "metadata": {
    "interpreter": {
     "hash": "38d2a69ffe49ab09f4802be1c23258f3f7fffea0ba590b96efd5d32221c327f6"
    }
   }
  }
 },
 "nbformat": 4,
 "nbformat_minor": 2,
 "cells": [
  {
   "source": [
    "# Este programa convierte numeros decimales a binarios\n",
    "def decimalBinary (numero):\n",
    "    if numero ==0 or numero == 1:\n",
    "        print(numero, end='')\n",
    "        return\n",
    "    decimalBinary(int (numero/2))\n",
    "    decimalBinary(numero%2)\n",
    "\n",
    "def main():\n",
    "    numero = int(input(\"Ingresa un numero decimal \"))\n",
    "    print(\"Binario:\")\n",
    "    decimalBinary(numero)\n",
    "main()\n"
   ],
   "cell_type": "code",
   "metadata": {},
   "execution_count": 55,
   "outputs": [
    {
     "output_type": "stream",
     "name": "stdout",
     "text": [
      "Binario:\n1011"
     ]
    }
   ]
  },
  {
   "cell_type": "code",
   "execution_count": 50,
   "metadata": {},
   "outputs": [
    {
     "output_type": "stream",
     "name": "stdout",
     "text": [
      "Decimal:  19\n"
     ]
    }
   ],
   "source": [
    "# Este programa convierte numeros de binario a decimal\n",
    "def binarioDecimal(num):\n",
    "    sum = 0\n",
    "    i = 0\n",
    "    while num != 0:\n",
    "        rem = num % 10\n",
    "        sum = sum + rem * pow(2, i)\n",
    "        num = int(num / 10)\n",
    "        i = i + 1\n",
    "    print(\"Decimal: \", sum)\n",
    "\n",
    "def main():\n",
    "    num = int(input(\"Ingresa un numero binario\"))\n",
    "    binarioDecimal(num)\n",
    "main()"
   ]
  },
  {
   "cell_type": "code",
   "execution_count": 59,
   "metadata": {},
   "outputs": [
    {
     "output_type": "stream",
     "name": "stdout",
     "text": [
      "Octal: 25"
     ]
    }
   ],
   "source": [
    "# Este programa convierte numeros de decimal a octal\n",
    "def decimalOctal(num):\n",
    "    if (num > 0):\n",
    "        decimalOctal((int)(num / 8))\n",
    "        print(num % 8, end='')\n",
    "def main():\n",
    "    num = int(input(\"Ingresa un numero decimal\"))\n",
    "    print(\"Octal: \", end='')\n",
    "    decimalOctal(num)\n",
    "main()"
   ]
  },
  {
   "cell_type": "code",
   "execution_count": 67,
   "metadata": {},
   "outputs": [
    {
     "output_type": "stream",
     "name": "stdout",
     "text": [
      "Decimal: 20 \n"
     ]
    }
   ],
   "source": [
    "# Este programa convierte numeros de octal a decimal\n",
    "def octalDecimal(oct, i):\n",
    "    if oct >= 0 and oct <= 7:\n",
    "        return oct * pow(8, i)\n",
    "    ldigito = oct % 10\n",
    "    return (pow(8, i) * ldigito) + octalDecimal(oct // 10, i + 1)\n",
    "def main():\n",
    "    octal = int(input('Ingresa un numero octal: '))\n",
    "    decimal = octalDecimal(octal, 0)\n",
    "    print(\"Decimal: {q} \".format(q = decimal))\n",
    "main()"
   ]
  },
  {
   "cell_type": "code",
   "execution_count": 73,
   "metadata": {},
   "outputs": [
    {
     "output_type": "stream",
     "name": "stdout",
     "text": [
      "Hexadecimal:  A\n"
     ]
    }
   ],
   "source": [
    "# Este programa convierte numeros de decimal a hexadecimal\n",
    "tablaConversion = ['0','1','2','3','4','5','6','7','8','9','A','B','C','D','E','F']\n",
    "def decimalHexadecimal(num):\n",
    "    if(num <= 0):\n",
    "        return ''\n",
    "    rem = num % 16\n",
    "    return decimalHexadecimal(num // 16) + tablaConversion[rem]\n",
    "def main():\n",
    "    decimal = int(input(\"Ingresa un numero decimal: \"))\n",
    "    print(\"Hexadecimal: \", decimalHexadecimal(decimal))\n",
    "main()\n"
   ]
  },
  {
   "cell_type": "code",
   "execution_count": 162,
   "metadata": {},
   "outputs": [
    {
     "output_type": "stream",
     "name": "stdout",
     "text": [
      "Decimal:  255\n"
     ]
    }
   ],
   "source": [
    "# Este programa convierte numeros de hexadecimal a decimal\n",
    "tablaConversion= {'0': 0, '1': 1, '2': 2, '3': 3, '4': 4, '5': 5, '6': 6, '7': 7, '8': 8, '9': 9, 'A': 10 , 'B': 11, 'C': 12, 'D': 13, 'E': 14, 'F': 15}\n",
    " \n",
    "hexadecimal = input(\"Introduce un numero hexadecimal: \").strip().upper()\n",
    "decimal = 0\n",
    "power = len(hexadecimal) -1\n",
    " \n",
    "for digit in hexadecimal:\n",
    "    decimal += tablaConversion[digit]*16**power\n",
    "    power -= 1\n",
    "    \n",
    "print(\"Decimal: \", decimal)"
   ]
  },
  {
   "cell_type": "code",
   "execution_count": 167,
   "metadata": {},
   "outputs": [
    {
     "output_type": "stream",
     "name": "stdout",
     "text": [
      "Hexadecimal: <function decimalHexadecimal at 0x08E29898>\n"
     ]
    }
   ],
   "source": [
    "# Programa para convertir de Binario a hexadecimal"
   ]
  },
  {
   "cell_type": "code",
   "execution_count": null,
   "metadata": {},
   "outputs": [],
   "source": [
    "# Programa para convertir de hexadecimal al binario"
   ]
  },
  {
   "cell_type": "code",
   "execution_count": null,
   "metadata": {},
   "outputs": [],
   "source": [
    "# Programa para convertir de Binario a Octal"
   ]
  },
  {
   "cell_type": "code",
   "execution_count": null,
   "metadata": {},
   "outputs": [],
   "source": [
    "# Programa para convertir de Octal a binario"
   ]
  }
 ]
}